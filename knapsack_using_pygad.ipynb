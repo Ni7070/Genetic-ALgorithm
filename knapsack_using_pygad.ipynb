{
  "nbformat": 4,
  "nbformat_minor": 0,
  "metadata": {
    "colab": {
      "name": "knapsack using pygad.ipynb",
      "provenance": [],
      "authorship_tag": "ABX9TyPU5oar6tlgoBp9BC0TiwYe",
      "include_colab_link": true
    },
    "kernelspec": {
      "name": "python3",
      "display_name": "Python 3"
    },
    "language_info": {
      "name": "python"
    }
  },
  "cells": [
    {
      "cell_type": "markdown",
      "metadata": {
        "id": "view-in-github",
        "colab_type": "text"
      },
      "source": [
        "<a href=\"https://colab.research.google.com/github/Ni7070/Genetic-ALgorithm/blob/master/knapsack_using_pygad.ipynb\" target=\"_parent\"><img src=\"https://colab.research.google.com/assets/colab-badge.svg\" alt=\"Open In Colab\"/></a>"
      ]
    },
    {
      "cell_type": "code",
      "execution_count": 1,
      "metadata": {
        "colab": {
          "base_uri": "https://localhost:8080/"
        },
        "id": "0tzdmRmkLs7v",
        "outputId": "d150c5dc-d703-437c-9301-27bc28769e2e"
      },
      "outputs": [
        {
          "output_type": "stream",
          "name": "stdout",
          "text": [
            "Collecting pygad\n",
            "  Downloading pygad-2.16.1-py3-none-any.whl (53 kB)\n",
            "\u001b[?25l\r\u001b[K     |██████▏                         | 10 kB 22.2 MB/s eta 0:00:01\r\u001b[K     |████████████▎                   | 20 kB 20.8 MB/s eta 0:00:01\r\u001b[K     |██████████████████▍             | 30 kB 11.0 MB/s eta 0:00:01\r\u001b[K     |████████████████████████▌       | 40 kB 8.9 MB/s eta 0:00:01\r\u001b[K     |██████████████████████████████▋ | 51 kB 4.4 MB/s eta 0:00:01\r\u001b[K     |████████████████████████████████| 53 kB 1.3 MB/s \n",
            "\u001b[?25hRequirement already satisfied: numpy in /usr/local/lib/python3.7/dist-packages (from pygad) (1.19.5)\n",
            "Requirement already satisfied: matplotlib in /usr/local/lib/python3.7/dist-packages (from pygad) (3.2.2)\n",
            "Requirement already satisfied: python-dateutil>=2.1 in /usr/local/lib/python3.7/dist-packages (from matplotlib->pygad) (2.8.2)\n",
            "Requirement already satisfied: pyparsing!=2.0.4,!=2.1.2,!=2.1.6,>=2.0.1 in /usr/local/lib/python3.7/dist-packages (from matplotlib->pygad) (3.0.6)\n",
            "Requirement already satisfied: kiwisolver>=1.0.1 in /usr/local/lib/python3.7/dist-packages (from matplotlib->pygad) (1.3.2)\n",
            "Requirement already satisfied: cycler>=0.10 in /usr/local/lib/python3.7/dist-packages (from matplotlib->pygad) (0.11.0)\n",
            "Requirement already satisfied: six>=1.5 in /usr/local/lib/python3.7/dist-packages (from python-dateutil>=2.1->matplotlib->pygad) (1.15.0)\n",
            "Installing collected packages: pygad\n",
            "Successfully installed pygad-2.16.1\n"
          ]
        }
      ],
      "source": [
        "!pip3 install pygad"
      ]
    },
    {
      "cell_type": "code",
      "source": [
        "import pygad"
      ],
      "metadata": {
        "id": "E1yd4CLIL43c"
      },
      "execution_count": 37,
      "outputs": []
    },
    {
      "cell_type": "code",
      "source": [
        "import pandas as pd\n",
        "item=['raincoat','pocket knife','mineral water','gloves','sleeping bag','tent','portable stove','canned food','snacks']\n",
        "weight=[2,1,6,1,4,9,5,8,3]\n",
        "survival=[5,3,15,5,6,18,8,20,8]\n",
        "dic = {'item': item, 'weight': weight, 'survival': survival} \n",
        "data = pd.DataFrame(dic)\n",
        "max_weight=25"
      ],
      "metadata": {
        "id": "95ytTTeLMvsz"
      },
      "execution_count": 38,
      "outputs": []
    },
    {
      "cell_type": "code",
      "source": [
        "print(data)\n",
        "[1 0 1 0 0 1 0 1 0]"
      ],
      "metadata": {
        "colab": {
          "base_uri": "https://localhost:8080/"
        },
        "id": "nvyKrOnFOtP_",
        "outputId": "bb0cf7c7-5ce8-427f-edef-8a6b065e7fb2"
      },
      "execution_count": 39,
      "outputs": [
        {
          "output_type": "stream",
          "name": "stdout",
          "text": [
            "             item  weight  survival\n",
            "0        raincoat       2         5\n",
            "1    pocket knife       1         3\n",
            "2   mineral water       6        15\n",
            "3          gloves       1         5\n",
            "4    sleeping bag       4         6\n",
            "5            tent       9        18\n",
            "6  portable stove       5         8\n",
            "7     canned food       8        20\n",
            "8          snacks       3         8\n"
          ]
        }
      ]
    },
    {
      "cell_type": "code",
      "source": [
        "import numpy as np\n",
        "def fitness_func(solution, solution_idx):\n",
        "  f = np.sum(solution * survival) \n",
        "  penalty = np.sum(weight) * abs(sum(solution * weight) - max_weight) \n",
        "  return f - penalty \n",
        "  "
      ],
      "metadata": {
        "id": "SGAoE0wISQRx"
      },
      "execution_count": 40,
      "outputs": []
    },
    {
      "cell_type": "code",
      "source": [
        "ga_instance = pygad.GA(num_generations=10,\n",
        "                       sol_per_pop=5,\n",
        "                       num_parents_mating=2,\n",
        "                       num_genes=9,\n",
        "                       fitness_func=fitness_func,\n",
        "                       gene_space = [0,1],\n",
        "                       gene_type=int)"
      ],
      "metadata": {
        "colab": {
          "base_uri": "https://localhost:8080/"
        },
        "id": "Q3hZlunzTLX4",
        "outputId": "6e8487a8-ee85-4256-fd0a-2f24ab4e4bda"
      },
      "execution_count": 41,
      "outputs": [
        {
          "output_type": "stream",
          "name": "stderr",
          "text": [
            "/usr/local/lib/python3.7/dist-packages/pygad/pygad.py:469: UserWarning: The percentage of genes to mutate (mutation_percent_genes=10) resutled in selecting (0) genes. The number of genes to mutate is set to 1 (mutation_num_genes=1).\n",
            "If you do not want to mutate any gene, please set mutation_type=None.\n",
            "  if not self.suppress_warnings: warnings.warn(\"The percentage of genes to mutate (mutation_percent_genes={mutation_percent}) resutled in selecting ({mutation_num}) genes. The number of genes to mutate is set to 1 (mutation_num_genes=1).\\nIf you do not want to mutate any gene, please set mutation_type=None.\".format(mutation_percent=mutation_percent_genes, mutation_num=mutation_num_genes))\n"
          ]
        }
      ]
    },
    {
      "cell_type": "code",
      "source": [
        "ga_instance.run()"
      ],
      "metadata": {
        "id": "AJ13O5NgTkDU"
      },
      "execution_count": 42,
      "outputs": []
    },
    {
      "cell_type": "code",
      "source": [
        "print(ga_instance.initial_population)\n",
        "print(ga_instance.population)"
      ],
      "metadata": {
        "colab": {
          "base_uri": "https://localhost:8080/"
        },
        "id": "ZHqHL85KTVDv",
        "outputId": "f5b4651d-ace4-4305-f1e0-887d47197a64"
      },
      "execution_count": 43,
      "outputs": [
        {
          "output_type": "stream",
          "name": "stdout",
          "text": [
            "[[0 0 1 0 0 1 0 1 1]\n",
            " [1 1 0 0 0 1 1 1 0]\n",
            " [0 1 1 1 1 1 1 1 0]\n",
            " [1 0 0 1 1 1 1 0 1]\n",
            " [0 0 0 0 1 1 1 1 1]]\n",
            "[[1 0 1 0 0 1 0 1 0]\n",
            " [1 1 0 0 0 1 1 1 0]\n",
            " [1 0 0 0 0 1 1 1 1]\n",
            " [0 1 0 0 0 1 0 1 0]\n",
            " [0 0 1 0 0 1 1 1 0]]\n"
          ]
        }
      ]
    },
    {
      "cell_type": "code",
      "source": [
        "ga_instance.plot_fitness()"
      ],
      "metadata": {
        "colab": {
          "base_uri": "https://localhost:8080/",
          "height": 583
        },
        "id": "HLqdaj-uZRHY",
        "outputId": "c7f2522c-adcb-4146-b07e-270adb89755b"
      },
      "execution_count": 44,
      "outputs": [
        {
          "output_type": "display_data",
          "data": {
            "image/png": "[encoded data removed]",
            "text/plain": [
              "<Figure size 432x288 with 1 Axes>"
            ]
          },
          "metadata": {
            "needs_background": "light"
          }
        },
        {
          "output_type": "execute_result",
          "data": {
            "image/png": "[encoded data removed]",
            "text/plain": [
              "<Figure size 432x288 with 1 Axes>"
            ]
          },
          "metadata": {},
          "execution_count": 44
        }
      ]
    },
    {
      "cell_type": "code",
      "source": [
        "solution, solution_fitness, solution_idx = ga_instance.best_solution()\n",
        "print(\"Parameters of the best solution : {solution}\".format(solution=solution))\n",
        "print(\"Fitness value of the best solution = {solution_fitness}\".format(solution_fitness=solution_fitness))\n"
      ],
      "metadata": {
        "colab": {
          "base_uri": "https://localhost:8080/"
        },
        "id": "LjhnWWJxZwi6",
        "outputId": "c4f4cb5e-e229-4a78-8334-e88712a5f4b8"
      },
      "execution_count": 49,
      "outputs": [
        {
          "output_type": "stream",
          "name": "stdout",
          "text": [
            "Parameters of the best solution : [1 0 1 0 0 1 0 1 0]\n",
            "Fitness value of the best solution = 58\n"
          ]
        }
      ]
    },
    {
      "cell_type": "code",
      "source": [
        "if ga_instance.best_solution_generation != -1:\n",
        "    print(\"Best fitness value reached after {best_solution_generation} generations.\".format(best_solution_generation=ga_instance.best_solution_generation))"
      ],
      "metadata": {
        "colab": {
          "base_uri": "https://localhost:8080/"
        },
        "id": "k7ueO6ELZ0wL",
        "outputId": "dc512ed1-3cee-4034-c88d-d84c2b7cf37e"
      },
      "execution_count": 46,
      "outputs": [
        {
          "output_type": "stream",
          "name": "stdout",
          "text": [
            "Best fitness value reached after 4 generations.\n"
          ]
        }
      ]
    }
  ]
}